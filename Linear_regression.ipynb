{
 "cells": [
  {
   "cell_type": "code",
   "execution_count": 3,
   "id": "43629de0-5626-4d9f-886f-02a275e4e4a7",
   "metadata": {},
   "outputs": [
    {
     "name": "stdin",
     "output_type": "stream",
     "text": [
      "enter first value of theeta 0\n"
     ]
    },
    {
     "name": "stdout",
     "output_type": "stream",
     "text": [
      "first value of: 0.0\n",
      "The cost function value with first value of theeta: 8.333333333333332\n"
     ]
    },
    {
     "name": "stdin",
     "output_type": "stream",
     "text": [
      "enter first value of theeta 0.5\n"
     ]
    },
    {
     "name": "stdout",
     "output_type": "stream",
     "text": [
      "Seconed value of: 0.5\n",
      "The cost function value with second value of theeta: 6.083333333333333\n"
     ]
    }
   ],
   "source": [
    "import numpy as np\n",
    "x=np.random.randint(1,5,3)\n",
    "y=np.random.randint(2,6,3)\n",
    "def cost_function(x,y,theeta_val):\n",
    "    hypo=theeta_val*x\n",
    "    error=hypo-y\n",
    "    Cost=(1/(2*np.size(x)))*np.sum(error**2)\n",
    "    return Cost\n",
    "thee1=float(input(\"enter first value of theeta\"))\n",
    "print(\"first value of:\",thee1)\n",
    "Cost1=cost_function(x,y,thee1)\n",
    "print(\"The cost function value with first value of theeta:\", Cost1)\n",
    "thee2=float(input(\"enter first value of theeta\"))\n",
    "print(\"Seconed value of:\",thee2)\n",
    "Cost2=cost_function(x,y,thee2)\n",
    "print(\"The cost function value with second value of theeta:\", Cost2)"
   ]
  },
  {
   "cell_type": "code",
   "execution_count": null,
   "id": "c69b4361-d22e-4631-ad60-f9d968255ae9",
   "metadata": {},
   "outputs": [],
   "source": []
  }
 ],
 "metadata": {
  "kernelspec": {
   "display_name": "Python 3 (ipykernel)",
   "language": "python",
   "name": "python3"
  },
  "language_info": {
   "codemirror_mode": {
    "name": "ipython",
    "version": 3
   },
   "file_extension": ".py",
   "mimetype": "text/x-python",
   "name": "python",
   "nbconvert_exporter": "python",
   "pygments_lexer": "ipython3",
   "version": "3.12.4"
  }
 },
 "nbformat": 4,
 "nbformat_minor": 5
}
